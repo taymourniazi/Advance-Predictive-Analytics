{
 "cells": [
  {
   "cell_type": "code",
   "execution_count": 1,
   "metadata": {},
   "outputs": [],
   "source": [
    "%matplotlib inline\n",
    "from pyspark import SparkContext\n",
    "from pyspark.sql import SQLContext"
   ]
  },
  {
   "cell_type": "code",
   "execution_count": 2,
   "metadata": {},
   "outputs": [],
   "source": [
    "## spark Context \n",
    "sc = SparkContext( 'local', 'pyspark')"
   ]
  },
  {
   "cell_type": "code",
   "execution_count": 3,
   "metadata": {},
   "outputs": [],
   "source": [
    "sqlContext = SQLContext(sc)"
   ]
  },
  {
   "cell_type": "code",
   "execution_count": 4,
   "metadata": {
    "collapsed": true
   },
   "outputs": [],
   "source": [
    "def parse_line(l):\n",
    "    try:\n",
    "        return l.split(\",\")\n",
    "    except:\n",
    "        print(\"error in processing {0}\".format(l))"
   ]
  },
  {
   "cell_type": "code",
   "execution_count": 5,
   "metadata": {},
   "outputs": [],
   "source": [
    "songs = sc.textFile('/Users/jbabcock/Downloads/YearPredictionMSD.txt').\\\n",
    "map(lambda x : parse_line(x)).\\\n",
    "toDF()"
   ]
  },
  {
   "cell_type": "code",
   "execution_count": 7,
   "metadata": {
    "collapsed": true
   },
   "outputs": [],
   "source": [
    "from pyspark.mllib.regression import LabeledPoint\n",
    "songs_labeled = songs.map( lambda x: LabeledPoint(x[0],x[1:]) )"
   ]
  },
  {
   "cell_type": "code",
   "execution_count": 8,
   "metadata": {},
   "outputs": [],
   "source": [
    "## splitting train\n",
    "\n",
    "songs_train = songs_labeled.zipWithIndex().\\\n",
    "filter( lambda x: x[1] < 463715).\\\n",
    "map( lambda x: x[0] )"
   ]
  },
  {
   "cell_type": "code",
   "execution_count": 9,
   "metadata": {
    "collapsed": true
   },
   "outputs": [],
   "source": [
    "## splitting test\n",
    "\n",
    "songs_test = songs_labeled.zipWithIndex().\\\n",
    "filter( lambda x: x[1] >= 463715).\\\n",
    "map( lambda x: x[0] )"
   ]
  },
  {
   "cell_type": "code",
   "execution_count": 18,
   "metadata": {},
   "outputs": [],
   "source": [
    "from pyspark.mllib.tree import RandomForest\n",
    "rf = RandomForest.trainRegressor(songs_train,{},50,\"auto\",\"variance\",10,32)"
   ]
  },
  {
   "cell_type": "code",
   "execution_count": 19,
   "metadata": {
    "collapsed": true
   },
   "outputs": [],
   "source": [
    "prediction = rf.predict(songs_test.map(lambda x: x.features))\n",
    "predictedObserved = songs_test.map(lambda lp: lp.label).zip(prediction)"
   ]
  },
  {
   "cell_type": "code",
   "execution_count": 20,
   "metadata": {},
   "outputs": [],
   "source": [
    "from pyspark.mllib.evaluation import RegressionMetrics"
   ]
  },
  {
   "cell_type": "code",
   "execution_count": 21,
   "metadata": {},
   "outputs": [
    {
     "data": {
      "text/plain": [
       "-3.69830379609341"
      ]
     },
     "execution_count": 21,
     "metadata": {},
     "output_type": "execute_result"
    }
   ],
   "source": [
    "RegressionMetrics(predictedObserved).r2"
   ]
  },
  {
   "cell_type": "code",
   "execution_count": 22,
   "metadata": {},
   "outputs": [
    {
     "data": {
      "text/plain": [
       "[(2007.0, 1995.9064460339775),\n",
       " (2003.0, 2002.534486616815),\n",
       " (2005.0, 1999.4269553417332),\n",
       " (2003.0, 2002.2919078641394),\n",
       " (2005.0, 2001.720244097928),\n",
       " (2007.0, 1997.7955438534639),\n",
       " (2003.0, 2000.5908110171194),\n",
       " (2003.0, 1999.874075396483),\n",
       " (2003.0, 1997.9664817235432),\n",
       " (2005.0, 2001.4931432241076)]"
      ]
     },
     "execution_count": 22,
     "metadata": {},
     "output_type": "execute_result"
    }
   ],
   "source": [
    "predictedObserved.take(10)"
   ]
  },
  {
   "cell_type": "code",
   "execution_count": null,
   "metadata": {
    "collapsed": true
   },
   "outputs": [],
   "source": []
  }
 ],
 "metadata": {
  "kernelspec": {
   "display_name": "Python [default]",
   "language": "python",
   "name": "python2"
  },
  "language_info": {
   "codemirror_mode": {
    "name": "ipython",
    "version": 2
   },
   "file_extension": ".py",
   "mimetype": "text/x-python",
   "name": "python",
   "nbconvert_exporter": "python",
   "pygments_lexer": "ipython2",
   "version": "2.7.14"
  }
 },
 "nbformat": 4,
 "nbformat_minor": 1
}
