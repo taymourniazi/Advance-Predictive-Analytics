{
 "cells": [
  {
   "cell_type": "code",
   "execution_count": 2,
   "metadata": {},
   "outputs": [],
   "source": [
    "%matplotlib inline\n",
    "\n",
    "import pandas as pd\n",
    "import matplotlib\n",
    "import matplotlib.pyplot as plt\n",
    "import numpy as np\n",
    "import pandas as pd\n",
    "import geopandas as geo"
   ]
  },
  {
   "cell_type": "markdown",
   "metadata": {},
   "source": [
    "# Loading geospatial data"
   ]
  },
  {
   "cell_type": "code",
   "execution_count": 4,
   "metadata": {},
   "outputs": [],
   "source": [
    "africa_map = geo.GeoDataFrame.from_file(\"E:/Africa.shp\")"
   ]
  },
  {
   "cell_type": "code",
   "execution_count": 5,
   "metadata": {},
   "outputs": [
    {
     "data": {
      "text/plain": [
       "Index(['ID', 'CODE', 'COUNTRY', 'geometry'], dtype='object')"
      ]
     },
     "execution_count": 5,
     "metadata": {},
     "output_type": "execute_result"
    }
   ],
   "source": [
    "africa_map.columns"
   ]
  },
  {
   "cell_type": "code",
   "execution_count": 6,
   "metadata": {},
   "outputs": [
    {
     "data": {
      "text/html": [
       "<div>\n",
       "<style>\n",
       "    .dataframe thead tr:only-child th {\n",
       "        text-align: right;\n",
       "    }\n",
       "\n",
       "    .dataframe thead th {\n",
       "        text-align: left;\n",
       "    }\n",
       "\n",
       "    .dataframe tbody tr th {\n",
       "        vertical-align: top;\n",
       "    }\n",
       "</style>\n",
       "<table border=\"1\" class=\"dataframe\">\n",
       "  <thead>\n",
       "    <tr style=\"text-align: right;\">\n",
       "      <th></th>\n",
       "      <th>ID</th>\n",
       "      <th>CODE</th>\n",
       "      <th>COUNTRY</th>\n",
       "      <th>geometry</th>\n",
       "    </tr>\n",
       "  </thead>\n",
       "  <tbody>\n",
       "    <tr>\n",
       "      <th>0</th>\n",
       "      <td>1</td>\n",
       "      <td>ALG</td>\n",
       "      <td>Algeria</td>\n",
       "      <td>POLYGON ((-5.7636199999979 25.58624999999302, ...</td>\n",
       "    </tr>\n",
       "    <tr>\n",
       "      <th>1</th>\n",
       "      <td>2</td>\n",
       "      <td>ANG</td>\n",
       "      <td>Angola</td>\n",
       "      <td>POLYGON ((13.36632442474365 -8.32172966003418,...</td>\n",
       "    </tr>\n",
       "    <tr>\n",
       "      <th>2</th>\n",
       "      <td>3</td>\n",
       "      <td>ANG</td>\n",
       "      <td>Angola</td>\n",
       "      <td>POLYGON ((12.80576000000292 -4.806490000002668...</td>\n",
       "    </tr>\n",
       "    <tr>\n",
       "      <th>3</th>\n",
       "      <td>4</td>\n",
       "      <td>ANG</td>\n",
       "      <td>Angola</td>\n",
       "      <td>POLYGON ((11.76834011077881 -16.79932975769043...</td>\n",
       "    </tr>\n",
       "    <tr>\n",
       "      <th>4</th>\n",
       "      <td>5</td>\n",
       "      <td>ANG</td>\n",
       "      <td>Angola</td>\n",
       "      <td>POLYGON ((12.89840030670166 -5.988018989562988...</td>\n",
       "    </tr>\n",
       "  </tbody>\n",
       "</table>\n",
       "</div>"
      ],
      "text/plain": [
       "  ID CODE  COUNTRY                                           geometry\n",
       "0  1  ALG  Algeria  POLYGON ((-5.7636199999979 25.58624999999302, ...\n",
       "1  2  ANG   Angola  POLYGON ((13.36632442474365 -8.32172966003418,...\n",
       "2  3  ANG   Angola  POLYGON ((12.80576000000292 -4.806490000002668...\n",
       "3  4  ANG   Angola  POLYGON ((11.76834011077881 -16.79932975769043...\n",
       "4  5  ANG   Angola  POLYGON ((12.89840030670166 -5.988018989562988..."
      ]
     },
     "execution_count": 6,
     "metadata": {},
     "output_type": "execute_result"
    }
   ],
   "source": [
    "africa_map.head()"
   ]
  },
  {
   "cell_type": "code",
   "execution_count": 7,
   "metadata": {},
   "outputs": [
    {
     "data": {
      "text/plain": [
       "<matplotlib.axes._subplots.AxesSubplot at 0x8c74940>"
      ]
     },
     "execution_count": 7,
     "metadata": {},
     "output_type": "execute_result"
    },
    {
     "data": {
      "image/png": "[encoded data removed]",
      "text/plain": [
       "<matplotlib.figure.Figure at 0x8c7f3c8>"
      ]
     },
     "metadata": {},
     "output_type": "display_data"
    }
   ],
   "source": [
    "africa_map.plot(column='CODE')"
   ]
  },
  {
   "cell_type": "markdown",
   "metadata": {},
   "source": [
    "# Color each country based on its population using information about the population density of each country "
   ]
  },
  {
   "cell_type": "code",
   "execution_count": 9,
   "metadata": {},
   "outputs": [],
   "source": [
    "africa_populations = pd.read_csv(\"E:/Africa_populations.tsv\",sep='\\t')"
   ]
  },
  {
   "cell_type": "markdown",
   "metadata": {},
   "source": [
    "# join this data to the geographical coordinates using merge"
   ]
  },
  {
   "cell_type": "code",
   "execution_count": 11,
   "metadata": {
    "collapsed": true
   },
   "outputs": [],
   "source": [
    "africa_map = pd.merge(africa_map,africa_populations,left_on='COUNTRY',right_on='Country_Name')"
   ]
  },
  {
   "cell_type": "code",
   "execution_count": 12,
   "metadata": {},
   "outputs": [
    {
     "data": {
      "text/html": [
       "<div>\n",
       "<style>\n",
       "    .dataframe thead tr:only-child th {\n",
       "        text-align: right;\n",
       "    }\n",
       "\n",
       "    .dataframe thead th {\n",
       "        text-align: left;\n",
       "    }\n",
       "\n",
       "    .dataframe tbody tr th {\n",
       "        vertical-align: top;\n",
       "    }\n",
       "</style>\n",
       "<table border=\"1\" class=\"dataframe\">\n",
       "  <thead>\n",
       "    <tr style=\"text-align: right;\">\n",
       "      <th></th>\n",
       "      <th>ID</th>\n",
       "      <th>CODE</th>\n",
       "      <th>COUNTRY</th>\n",
       "      <th>geometry</th>\n",
       "      <th>Country_Name</th>\n",
       "      <th>Population</th>\n",
       "      <th>Year_of_Estimate</th>\n",
       "    </tr>\n",
       "  </thead>\n",
       "  <tbody>\n",
       "    <tr>\n",
       "      <th>0</th>\n",
       "      <td>1</td>\n",
       "      <td>ALG</td>\n",
       "      <td>Algeria</td>\n",
       "      <td>POLYGON ((-5.7636199999979 25.58624999999302, ...</td>\n",
       "      <td>Algeria</td>\n",
       "      <td>38,813,720</td>\n",
       "      <td>2014</td>\n",
       "    </tr>\n",
       "    <tr>\n",
       "      <th>1</th>\n",
       "      <td>2</td>\n",
       "      <td>ANG</td>\n",
       "      <td>Angola</td>\n",
       "      <td>POLYGON ((13.36632442474365 -8.32172966003418,...</td>\n",
       "      <td>Angola</td>\n",
       "      <td>19,088,106</td>\n",
       "      <td>2014</td>\n",
       "    </tr>\n",
       "    <tr>\n",
       "      <th>2</th>\n",
       "      <td>3</td>\n",
       "      <td>ANG</td>\n",
       "      <td>Angola</td>\n",
       "      <td>POLYGON ((12.80576000000292 -4.806490000002668...</td>\n",
       "      <td>Angola</td>\n",
       "      <td>19,088,106</td>\n",
       "      <td>2014</td>\n",
       "    </tr>\n",
       "    <tr>\n",
       "      <th>3</th>\n",
       "      <td>4</td>\n",
       "      <td>ANG</td>\n",
       "      <td>Angola</td>\n",
       "      <td>POLYGON ((11.76834011077881 -16.79932975769043...</td>\n",
       "      <td>Angola</td>\n",
       "      <td>19,088,106</td>\n",
       "      <td>2014</td>\n",
       "    </tr>\n",
       "    <tr>\n",
       "      <th>4</th>\n",
       "      <td>5</td>\n",
       "      <td>ANG</td>\n",
       "      <td>Angola</td>\n",
       "      <td>POLYGON ((12.89840030670166 -5.988018989562988...</td>\n",
       "      <td>Angola</td>\n",
       "      <td>19,088,106</td>\n",
       "      <td>2014</td>\n",
       "    </tr>\n",
       "  </tbody>\n",
       "</table>\n",
       "</div>"
      ],
      "text/plain": [
       "  ID CODE  COUNTRY                                           geometry  \\\n",
       "0  1  ALG  Algeria  POLYGON ((-5.7636199999979 25.58624999999302, ...   \n",
       "1  2  ANG   Angola  POLYGON ((13.36632442474365 -8.32172966003418,...   \n",
       "2  3  ANG   Angola  POLYGON ((12.80576000000292 -4.806490000002668...   \n",
       "3  4  ANG   Angola  POLYGON ((11.76834011077881 -16.79932975769043...   \n",
       "4  5  ANG   Angola  POLYGON ((12.89840030670166 -5.988018989562988...   \n",
       "\n",
       "  Country_Name  Population  Year_of_Estimate  \n",
       "0      Algeria  38,813,720              2014  \n",
       "1       Angola  19,088,106              2014  \n",
       "2       Angola  19,088,106              2014  \n",
       "3       Angola  19,088,106              2014  \n",
       "4       Angola  19,088,106              2014  "
      ]
     },
     "execution_count": 12,
     "metadata": {},
     "output_type": "execute_result"
    }
   ],
   "source": [
    "africa_map.head()"
   ]
  },
  {
   "cell_type": "code",
   "execution_count": 13,
   "metadata": {},
   "outputs": [
    {
     "name": "stderr",
     "output_type": "stream",
     "text": [
      "C:\\Users\\asd\\Anaconda2\\envs\\py36\\lib\\site-packages\\geopandas\\plotting.py:381: FutureWarning: 'colormap' is deprecated, please use 'cmap' instead (for consistency with matplotlib)\n",
      "  \"(for consistency with matplotlib)\", FutureWarning)\n"
     ]
    },
    {
     "data": {
      "text/plain": [
       "<matplotlib.axes._subplots.AxesSubplot at 0x8e9b470>"
      ]
     },
     "execution_count": 13,
     "metadata": {},
     "output_type": "execute_result"
    },
    {
     "data": {
      "image/png": "[encoded data removed]",
      "text/plain": [
       "<matplotlib.figure.Figure at 0x8e9b390>"
      ]
     },
     "metadata": {},
     "output_type": "display_data"
    }
   ],
   "source": [
    "africa_map.plot(column='Population',colormap='hot')"
   ]
  },
  {
   "cell_type": "markdown",
   "metadata": {},
   "source": [
    "# Most populous countries (Ethiopia, Democratic Republic of Congo, and Egypt) highlighted in white"
   ]
  }
 ],
 "metadata": {
  "kernelspec": {
   "display_name": "Python [conda env:py36]",
   "language": "python",
   "name": "conda-env-py36-py"
  },
  "language_info": {
   "codemirror_mode": {
    "name": "ipython",
    "version": 3
   },
   "file_extension": ".py",
   "mimetype": "text/x-python",
   "name": "python",
   "nbconvert_exporter": "python",
   "pygments_lexer": "ipython3",
   "version": "3.6.5"
  }
 },
 "nbformat": 4,
 "nbformat_minor": 2
}
