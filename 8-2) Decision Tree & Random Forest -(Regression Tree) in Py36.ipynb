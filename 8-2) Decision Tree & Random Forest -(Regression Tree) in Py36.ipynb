{
 "cells": [
  {
   "cell_type": "markdown",
   "metadata": {},
   "source": [
    "# Importing the Boston dataset"
   ]
  },
  {
   "cell_type": "code",
   "execution_count": 1,
   "metadata": {
    "collapsed": true
   },
   "outputs": [],
   "source": [
    "import pandas as pd\n",
    "import numpy as np"
   ]
  },
  {
   "cell_type": "code",
   "execution_count": 3,
   "metadata": {},
   "outputs": [
    {
     "data": {
      "text/html": [
       "<div>\n",
       "<style>\n",
       "    .dataframe thead tr:only-child th {\n",
       "        text-align: right;\n",
       "    }\n",
       "\n",
       "    .dataframe thead th {\n",
       "        text-align: left;\n",
       "    }\n",
       "\n",
       "    .dataframe tbody tr th {\n",
       "        vertical-align: top;\n",
       "    }\n",
       "</style>\n",
       "<table border=\"1\" class=\"dataframe\">\n",
       "  <thead>\n",
       "    <tr style=\"text-align: right;\">\n",
       "      <th></th>\n",
       "      <th>crim</th>\n",
       "      <th>zn</th>\n",
       "      <th>indus</th>\n",
       "      <th>chas</th>\n",
       "      <th>nox</th>\n",
       "      <th>rm</th>\n",
       "      <th>age</th>\n",
       "      <th>dis</th>\n",
       "      <th>rad</th>\n",
       "      <th>tax</th>\n",
       "      <th>ptratio</th>\n",
       "      <th>black</th>\n",
       "      <th>lstat</th>\n",
       "      <th>medv</th>\n",
       "    </tr>\n",
       "  </thead>\n",
       "  <tbody>\n",
       "    <tr>\n",
       "      <th>0</th>\n",
       "      <td>0.00632</td>\n",
       "      <td>18.0</td>\n",
       "      <td>2.31</td>\n",
       "      <td>0</td>\n",
       "      <td>0.538</td>\n",
       "      <td>6.575</td>\n",
       "      <td>65.2</td>\n",
       "      <td>4.0900</td>\n",
       "      <td>1</td>\n",
       "      <td>296</td>\n",
       "      <td>15.3</td>\n",
       "      <td>396.90</td>\n",
       "      <td>4.98</td>\n",
       "      <td>24.0</td>\n",
       "    </tr>\n",
       "    <tr>\n",
       "      <th>1</th>\n",
       "      <td>0.02731</td>\n",
       "      <td>0.0</td>\n",
       "      <td>7.07</td>\n",
       "      <td>0</td>\n",
       "      <td>0.469</td>\n",
       "      <td>6.421</td>\n",
       "      <td>78.9</td>\n",
       "      <td>4.9671</td>\n",
       "      <td>2</td>\n",
       "      <td>242</td>\n",
       "      <td>17.8</td>\n",
       "      <td>396.90</td>\n",
       "      <td>9.14</td>\n",
       "      <td>21.6</td>\n",
       "    </tr>\n",
       "    <tr>\n",
       "      <th>2</th>\n",
       "      <td>0.02729</td>\n",
       "      <td>0.0</td>\n",
       "      <td>7.07</td>\n",
       "      <td>0</td>\n",
       "      <td>0.469</td>\n",
       "      <td>7.185</td>\n",
       "      <td>61.1</td>\n",
       "      <td>4.9671</td>\n",
       "      <td>2</td>\n",
       "      <td>242</td>\n",
       "      <td>17.8</td>\n",
       "      <td>392.83</td>\n",
       "      <td>4.03</td>\n",
       "      <td>34.7</td>\n",
       "    </tr>\n",
       "    <tr>\n",
       "      <th>3</th>\n",
       "      <td>0.03237</td>\n",
       "      <td>0.0</td>\n",
       "      <td>2.18</td>\n",
       "      <td>0</td>\n",
       "      <td>0.458</td>\n",
       "      <td>6.998</td>\n",
       "      <td>45.8</td>\n",
       "      <td>6.0622</td>\n",
       "      <td>3</td>\n",
       "      <td>222</td>\n",
       "      <td>18.7</td>\n",
       "      <td>394.63</td>\n",
       "      <td>2.94</td>\n",
       "      <td>33.4</td>\n",
       "    </tr>\n",
       "    <tr>\n",
       "      <th>4</th>\n",
       "      <td>0.06905</td>\n",
       "      <td>0.0</td>\n",
       "      <td>2.18</td>\n",
       "      <td>0</td>\n",
       "      <td>0.458</td>\n",
       "      <td>7.147</td>\n",
       "      <td>54.2</td>\n",
       "      <td>6.0622</td>\n",
       "      <td>3</td>\n",
       "      <td>222</td>\n",
       "      <td>18.7</td>\n",
       "      <td>396.90</td>\n",
       "      <td>5.33</td>\n",
       "      <td>36.2</td>\n",
       "    </tr>\n",
       "  </tbody>\n",
       "</table>\n",
       "</div>"
      ],
      "text/plain": [
       "      crim    zn  indus  chas    nox     rm   age     dis  rad  tax  ptratio  \\\n",
       "0  0.00632  18.0   2.31     0  0.538  6.575  65.2  4.0900    1  296     15.3   \n",
       "1  0.02731   0.0   7.07     0  0.469  6.421  78.9  4.9671    2  242     17.8   \n",
       "2  0.02729   0.0   7.07     0  0.469  7.185  61.1  4.9671    2  242     17.8   \n",
       "3  0.03237   0.0   2.18     0  0.458  6.998  45.8  6.0622    3  222     18.7   \n",
       "4  0.06905   0.0   2.18     0  0.458  7.147  54.2  6.0622    3  222     18.7   \n",
       "\n",
       "    black  lstat  medv  \n",
       "0  396.90   4.98  24.0  \n",
       "1  396.90   9.14  21.6  \n",
       "2  392.83   4.03  34.7  \n",
       "3  394.63   2.94  33.4  \n",
       "4  396.90   5.33  36.2  "
      ]
     },
     "execution_count": 3,
     "metadata": {},
     "output_type": "execute_result"
    }
   ],
   "source": [
    "data.head()"
   ]
  },
  {
   "cell_type": "markdown",
   "metadata": {},
   "source": [
    "•\tCRIM: This is the per-capita crime rate by town  \n",
    "•\tZN: This is the proportion of residential land zoned for lots over 25,000 sq.ft  \n",
    "•\tINDUS: This is the proportion of non-retail business acres per town  \n",
    "•\tCHAS: The is the Charles River dummy variable (1 if the tract bounds river; 0 otherwise)    \n",
    "•\tNOX: This is the nitric oxide concentration (parts per 10 million)  \n",
    "•\tRM: This is the average number of rooms per dwelling  \n",
    "•\tAGE: This is the proportion of owner-occupied units built prior to 1940  \n",
    "•\tDIS: This is the weighted distance to five Boston employment centers    \n",
    "•\tRAD: This is the index of accessibility to radial highways    \n",
    "•\tTAX: This is the full-value property tax rate per 10,000  \n",
    "•\tPTRATIO: This is the pupil-teacher ratio by town  \n",
    "•\tB: 1000(Bk - 0.63)^2: Here, Bk is the proportion of blacks by town  \n",
    "•\tLSTAT: This is the % of lower status of the population  \n",
    "•\tMEDV: This is the median value of owner-occupied homes in $1000s  \n"
   ]
  },
  {
   "cell_type": "markdown",
   "metadata": {},
   "source": [
    "# Preparation for fitting a regression tree"
   ]
  },
  {
   "cell_type": "code",
   "execution_count": 4,
   "metadata": {
    "collapsed": true
   },
   "outputs": [],
   "source": [
    "colnames=data.columns.values.tolist()\n",
    "predictors=colnames[:13]\n",
    "target=colnames[13]\n",
    "X=data[predictors]\n",
    "Y=data[target]"
   ]
  },
  {
   "cell_type": "code",
   "execution_count": 5,
   "metadata": {},
   "outputs": [
    {
     "data": {
      "text/plain": [
       "(      crim    zn  indus  chas    nox     rm   age     dis  rad  tax  ptratio  \\\n",
       " 0  0.00632  18.0   2.31     0  0.538  6.575  65.2  4.0900    1  296     15.3   \n",
       " 1  0.02731   0.0   7.07     0  0.469  6.421  78.9  4.9671    2  242     17.8   \n",
       " 2  0.02729   0.0   7.07     0  0.469  7.185  61.1  4.9671    2  242     17.8   \n",
       " 3  0.03237   0.0   2.18     0  0.458  6.998  45.8  6.0622    3  222     18.7   \n",
       " 4  0.06905   0.0   2.18     0  0.458  7.147  54.2  6.0622    3  222     18.7   \n",
       " \n",
       "     black  lstat  \n",
       " 0  396.90   4.98  \n",
       " 1  396.90   9.14  \n",
       " 2  392.83   4.03  \n",
       " 3  394.63   2.94  \n",
       " 4  396.90   5.33  , 0    24.0\n",
       " 1    21.6\n",
       " 2    34.7\n",
       " 3    33.4\n",
       " 4    36.2\n",
       " Name: medv, dtype: float64)"
      ]
     },
     "execution_count": 5,
     "metadata": {},
     "output_type": "execute_result"
    }
   ],
   "source": [
    "X.head(), Y.head()"
   ]
  },
  {
   "cell_type": "markdown",
   "metadata": {},
   "source": [
    "# Creating and fitting a regression tree"
   ]
  },
  {
   "cell_type": "code",
   "execution_count": 6,
   "metadata": {},
   "outputs": [
    {
     "data": {
      "text/plain": [
       "DecisionTreeRegressor(criterion='mse', max_depth=None, max_features=None,\n",
       "           max_leaf_nodes=None, min_impurity_decrease=0.0,\n",
       "           min_impurity_split=None, min_samples_leaf=10,\n",
       "           min_samples_split=30, min_weight_fraction_leaf=0.0,\n",
       "           presort=False, random_state=0, splitter='best')"
      ]
     },
     "execution_count": 6,
     "metadata": {},
     "output_type": "execute_result"
    }
   ],
   "source": [
    "from sklearn.tree import DecisionTreeRegressor\n",
    "regression_tree = DecisionTreeRegressor(min_samples_split=30,min_samples_leaf=10,random_state=0)\n",
    "regression_tree.fit(X,Y)"
   ]
  },
  {
   "cell_type": "markdown",
   "metadata": {},
   "source": [
    "# Comparing actual and the predicted values from the Regression Tree"
   ]
  },
  {
   "cell_type": "code",
   "execution_count": 7,
   "metadata": {},
   "outputs": [
    {
     "data": {
      "text/html": [
       "<div>\n",
       "<style>\n",
       "    .dataframe thead tr:only-child th {\n",
       "        text-align: right;\n",
       "    }\n",
       "\n",
       "    .dataframe thead th {\n",
       "        text-align: left;\n",
       "    }\n",
       "\n",
       "    .dataframe tbody tr th {\n",
       "        vertical-align: top;\n",
       "    }\n",
       "</style>\n",
       "<table border=\"1\" class=\"dataframe\">\n",
       "  <thead>\n",
       "    <tr style=\"text-align: right;\">\n",
       "      <th></th>\n",
       "      <th>pred</th>\n",
       "      <th>medv</th>\n",
       "    </tr>\n",
       "  </thead>\n",
       "  <tbody>\n",
       "    <tr>\n",
       "      <th>0</th>\n",
       "      <td>22.840000</td>\n",
       "      <td>24.0</td>\n",
       "    </tr>\n",
       "    <tr>\n",
       "      <th>1</th>\n",
       "      <td>22.840000</td>\n",
       "      <td>21.6</td>\n",
       "    </tr>\n",
       "    <tr>\n",
       "      <th>2</th>\n",
       "      <td>35.247826</td>\n",
       "      <td>34.7</td>\n",
       "    </tr>\n",
       "    <tr>\n",
       "      <th>3</th>\n",
       "      <td>35.247826</td>\n",
       "      <td>33.4</td>\n",
       "    </tr>\n",
       "    <tr>\n",
       "      <th>4</th>\n",
       "      <td>35.247826</td>\n",
       "      <td>36.2</td>\n",
       "    </tr>\n",
       "    <tr>\n",
       "      <th>5</th>\n",
       "      <td>24.058621</td>\n",
       "      <td>28.7</td>\n",
       "    </tr>\n",
       "    <tr>\n",
       "      <th>6</th>\n",
       "      <td>20.811111</td>\n",
       "      <td>22.9</td>\n",
       "    </tr>\n",
       "    <tr>\n",
       "      <th>7</th>\n",
       "      <td>20.020833</td>\n",
       "      <td>27.1</td>\n",
       "    </tr>\n",
       "    <tr>\n",
       "      <th>8</th>\n",
       "      <td>20.020833</td>\n",
       "      <td>16.5</td>\n",
       "    </tr>\n",
       "    <tr>\n",
       "      <th>9</th>\n",
       "      <td>20.020833</td>\n",
       "      <td>18.9</td>\n",
       "    </tr>\n",
       "  </tbody>\n",
       "</table>\n",
       "</div>"
      ],
      "text/plain": [
       "        pred  medv\n",
       "0  22.840000  24.0\n",
       "1  22.840000  21.6\n",
       "2  35.247826  34.7\n",
       "3  35.247826  33.4\n",
       "4  35.247826  36.2\n",
       "5  24.058621  28.7\n",
       "6  20.811111  22.9\n",
       "7  20.020833  27.1\n",
       "8  20.020833  16.5\n",
       "9  20.020833  18.9"
      ]
     },
     "execution_count": 7,
     "metadata": {},
     "output_type": "execute_result"
    }
   ],
   "source": [
    "reg_tree_pred=regression_tree.predict(data[predictors])\n",
    "data['pred']=reg_tree_pred\n",
    "cols=['pred','medv']\n",
    "data[cols].head(10)"
   ]
  },
  {
   "cell_type": "markdown",
   "metadata": {},
   "source": [
    "# Cross Validating the Regression Tree"
   ]
  },
  {
   "cell_type": "code",
   "execution_count": 8,
   "metadata": {},
   "outputs": [
    {
     "name": "stderr",
     "output_type": "stream",
     "text": [
      "C:\\Users\\asd\\Anaconda2\\envs\\py36\\lib\\site-packages\\sklearn\\cross_validation.py:41: DeprecationWarning: This module was deprecated in version 0.18 in favor of the model_selection module into which all the refactored classes and functions are moved. Also note that the interface of the new CV iterators are different from that of this module. This module will be removed in 0.20.\n",
      "  \"This module will be removed in 0.20.\", DeprecationWarning)\n"
     ]
    },
    {
     "data": {
      "text/plain": [
       "-20.107307036443846"
      ]
     },
     "execution_count": 8,
     "metadata": {},
     "output_type": "execute_result"
    }
   ],
   "source": [
    "from sklearn.cross_validation import KFold\n",
    "from sklearn.cross_validation import cross_val_score\n",
    "crossvalidation = KFold(n=X.shape[0], n_folds=10,shuffle=True, random_state=1)\n",
    "score = np.mean(cross_val_score(regression_tree, X, Y,scoring='neg_mean_squared_error', cv=crossvalidation,n_jobs=1))\n",
    "score"
   ]
  },
  {
   "cell_type": "markdown",
   "metadata": {},
   "source": [
    "# Calculating the feature importance"
   ]
  },
  {
   "cell_type": "code",
   "execution_count": 9,
   "metadata": {},
   "outputs": [
    {
     "data": {
      "text/plain": [
       "array([ 0.03421203,  0.        ,  0.00116059,  0.        ,  0.01856163,\n",
       "        0.6308568 ,  0.01725115,  0.00137451,  0.        ,  0.00236983,\n",
       "        0.00933325,  0.        ,  0.28488021])"
      ]
     },
     "execution_count": 9,
     "metadata": {},
     "output_type": "execute_result"
    }
   ],
   "source": [
    "regression_tree.feature_importances_"
   ]
  },
  {
   "cell_type": "markdown",
   "metadata": {},
   "source": [
    "# Creating and fitting a Random Forest"
   ]
  },
  {
   "cell_type": "code",
   "execution_count": 22,
   "metadata": {},
   "outputs": [
    {
     "name": "stderr",
     "output_type": "stream",
     "text": [
      "C:\\Users\\asd\\Anaconda2\\envs\\py36\\lib\\site-packages\\sklearn\\ensemble\\forest.py:724: UserWarning: Some inputs do not have OOB scores. This probably means too few trees were used to compute any reliable oob estimates.\n",
      "  warn(\"Some inputs do not have OOB scores. \"\n"
     ]
    },
    {
     "data": {
      "text/plain": [
       "RandomForestRegressor(bootstrap=True, criterion='mse', max_depth=None,\n",
       "           max_features='auto', max_leaf_nodes=None,\n",
       "           min_impurity_decrease=0.0, min_impurity_split=None,\n",
       "           min_samples_leaf=1, min_samples_split=2,\n",
       "           min_weight_fraction_leaf=0.0, n_estimators=10, n_jobs=2,\n",
       "           oob_score=True, random_state=None, verbose=0, warm_start=False)"
      ]
     },
     "execution_count": 22,
     "metadata": {},
     "output_type": "execute_result"
    }
   ],
   "source": [
    "from sklearn.ensemble import RandomForestRegressor\n",
    "rf = RandomForestRegressor(n_jobs=2,oob_score=True,n_estimators=10)\n",
    "rf.fit(X,Y)"
   ]
  },
  {
   "cell_type": "markdown",
   "metadata": {},
   "source": [
    "# Out of Bag prediction"
   ]
  },
  {
   "cell_type": "code",
   "execution_count": 23,
   "metadata": {},
   "outputs": [
    {
     "data": {
      "text/plain": [
       "array([ 28.125     ,  22.625     ,  33.1       ,  34.625     ,\n",
       "        35.72      ,  23.975     ,  18.975     ,  16.88      ,\n",
       "        17.01666667,  22.8       ,  19.52      ,  20.83333333,\n",
       "        21.875     ,  20.73333333,  18.44      ,  19.975     ,\n",
       "        21.26666667,  20.26666667,  18.32      ,  19.16666667,\n",
       "        14.125     ,  18.16      ,  18.7       ,  16.2       ,\n",
       "        15.55      ,  14.96      ,  17.8       ,  14.75      ,\n",
       "        18.76      ,  24.38333333,  13.83333333,  19.86666667,\n",
       "        14.925     ,  13.76666667,  12.9       ,  21.45      ,\n",
       "        20.67142857,  22.36666667,  20.74      ,  28.        ,\n",
       "        30.5       ,  31.4       ,  24.7       ,  25.3       ,\n",
       "        20.96666667,  21.68      ,  20.74      ,  19.96      ,\n",
       "        18.83333333,  20.24      ,  21.92      ,  22.36666667,\n",
       "        25.45      ,  21.13333333,  21.56666667,  33.875     ,\n",
       "        23.14      ,  31.5       ,  23.03333333,  21.5       ,\n",
       "        19.08      ,  18.94      ,  23.8       ,  26.92      ,\n",
       "        33.8       ,  25.075     ,  19.95      ,  21.4       ,\n",
       "        20.36666667,  21.05      ,  24.1       ,  19.35      ,\n",
       "        21.75714286,  24.1       ,  22.3       ,  22.66666667,\n",
       "        21.45      ,  19.65      ,  19.34      ,  19.52857143,\n",
       "        28.5       ,  26.7       ,  23.45      ,  24.4       ,\n",
       "        22.7       ,  26.15      ,  21.26666667,  21.86666667,\n",
       "        33.6       ,  31.7       ,  22.91666667,  23.275     ,\n",
       "        22.96      ,  24.35      ,  20.6       ,  26.6875    ,\n",
       "        21.68      ,  45.06666667,  43.5       ,  32.8       ,\n",
       "        26.125     ,  24.83333333,  19.8       ,  18.95      ,\n",
       "        20.3       ,  17.625     ,  16.86      ,  18.65      ,\n",
       "        21.03333333,  20.16666667,  19.65      ,  24.53333333,\n",
       "        20.83333333,  18.14      ,  22.6       ,  19.48      ,\n",
       "        20.55      ,  18.5       ,  18.4       ,  21.35      ,\n",
       "        20.175     ,  20.3       ,  19.825     ,  17.92      ,\n",
       "        20.5       ,  19.7       ,  13.45      ,  17.175     ,\n",
       "        18.4       ,  15.03333333,  20.175     ,  19.98      ,\n",
       "        19.66666667,  18.05      ,  14.52857143,  17.175     ,\n",
       "        18.08333333,  18.175     ,  14.24      ,  13.8       ,\n",
       "        14.6       ,  14.6       ,  13.2       ,  14.2       ,\n",
       "        14.76666667,  14.6       ,  14.76666667,  14.6       ,\n",
       "        15.13333333,  18.6       ,  21.525     ,  15.3       ,\n",
       "        21.26666667,  14.525     ,  21.56666667,  18.45      ,\n",
       "        17.5       ,  29.44      ,  23.6       ,  26.96666667,\n",
       "        28.35      ,  35.9       ,  47.23333333,  50.        ,\n",
       "        18.475     ,  23.2       ,  49.7       ,  20.48333333,\n",
       "        21.93333333,  21.23333333,  22.43333333,  19.6       ,\n",
       "        19.6       ,  22.48      ,  23.5       ,  28.73333333,\n",
       "        22.53333333,  24.66      ,  30.4       ,   0.        ,\n",
       "        40.2       ,  26.26666667,  34.125     ,  30.35      ,\n",
       "        25.9       ,  25.06      ,  38.375     ,  27.22      ,\n",
       "        28.05      ,  34.375     ,  31.9       ,  30.4       ,\n",
       "        33.625     ,  28.15      ,  30.74      ,  48.375     ,\n",
       "        33.65      ,  33.475     ,  31.6       ,  32.26666667,\n",
       "        34.76666667,  23.125     ,  50.        ,  50.        ,\n",
       "        47.5       ,  24.4       ,  22.2       ,  19.95      ,\n",
       "        21.63333333,  14.46      ,  22.5       ,  18.45      ,\n",
       "        20.63333333,  23.45      ,  18.82857143,  24.        ,\n",
       "        22.375     ,  22.16      ,  20.42      ,  21.95      ,\n",
       "        27.83333333,  16.525     ,  27.625     ,  24.3       ,\n",
       "        39.7       ,  40.65      ,  44.025     ,  32.23333333,\n",
       "        46.86666667,  29.26666667,  22.225     ,  31.6       ,\n",
       "        38.15      ,  45.84      ,  26.6       ,  20.8       ,\n",
       "        26.4       ,  33.1       ,  22.86666667,  24.6       ,\n",
       "        28.75      ,  17.1       ,  22.        ,  23.875     ,\n",
       "        18.56      ,  20.93333333,  19.94      ,  19.05      ,\n",
       "        22.96      ,  24.4       ,  25.275     ,  25.36666667,\n",
       "        33.075     ,  41.55      ,  20.825     ,  21.6       ,\n",
       "        42.95      ,  35.35      ,  34.325     ,  30.5       ,\n",
       "        30.525     ,  45.86      ,  43.1       ,  31.6       ,\n",
       "        35.41428571,  23.        ,  29.075     ,  43.525     ,\n",
       "        42.3       ,  20.55      ,  20.425     ,  24.175     ,\n",
       "        21.38333333,  44.9       ,  31.85      ,  38.36666667,\n",
       "        41.        ,  28.7       ,  24.86      ,  31.46      ,\n",
       "        49.625     ,  34.        ,  45.22      ,  50.        ,\n",
       "        32.86666667,  22.85      ,  19.85      ,  23.36666667,\n",
       "        23.33333333,  22.71666667,  37.2       ,  34.3       ,\n",
       "        28.8       ,  18.26666667,  22.925     ,  25.26      ,\n",
       "        25.1       ,  21.21666667,  23.325     ,  33.95      ,\n",
       "        34.4       ,  27.66666667,  24.1       ,  34.475     ,\n",
       "        33.26666667,  28.62      ,  37.3       ,  31.525     ,\n",
       "        29.62      ,  20.3       ,  21.65      ,  21.44      ,\n",
       "        20.675     ,  23.8       ,  25.325     ,  20.75      ,\n",
       "        19.55      ,  20.1       ,  21.45      ,  21.7375    ,\n",
       "        23.73333333,  23.66666667,  21.03333333,  19.275     ,\n",
       "        23.2       ,  24.25714286,  23.4       ,  18.46666667,\n",
       "        20.73333333,  23.75      ,  24.48      ,  19.7       ,\n",
       "        20.21666667,  28.7       ,  23.825     ,  20.6       ,\n",
       "        20.        ,  19.1       ,  21.08      ,  19.5       ,\n",
       "        19.98333333,  33.38      ,  23.28571429,  27.43333333,\n",
       "        30.16666667,  17.2       ,  19.7       ,  23.63333333,\n",
       "        27.3       ,  29.58333333,  23.95      ,  26.        ,\n",
       "        22.625     ,  31.42      ,  20.        ,  22.        ,\n",
       "        15.1       ,  21.125     ,  19.76666667,  21.06666667,\n",
       "        16.65      ,  21.33333333,  20.36666667,  20.93333333,\n",
       "        42.275     ,  15.9       ,  21.38      ,  17.7       ,\n",
       "        40.475     ,  36.        ,  43.        ,  43.575     ,\n",
       "        44.475     ,  13.1       ,  11.43333333,  24.9       ,\n",
       "        11.16      ,  11.        ,  11.9       ,  12.12      ,\n",
       "        15.25      ,  10.16666667,  11.88      ,  10.43333333,\n",
       "         8.        ,   9.025     ,   6.65      ,   9.3       ,\n",
       "         9.6       ,  11.9       ,  13.8875    ,  13.1       ,\n",
       "         9.2       ,  12.36666667,  10.26666667,  10.13333333,\n",
       "        12.88      ,  11.83333333,   8.38      ,   9.425     ,\n",
       "         7.975     ,   8.73333333,  11.025     ,  10.83333333,\n",
       "         7.85      ,   7.25      ,  11.65      ,  37.3       ,\n",
       "        11.63333333,  16.05      ,  38.7       ,  17.76666667,\n",
       "         0.        ,  14.36666667,   9.36666667,  12.86666667,\n",
       "        12.23333333,  10.13333333,   9.84      ,  11.25      ,\n",
       "        14.73333333,  14.3       ,  23.8       ,  15.55      ,\n",
       "        12.36666667,  11.6       ,  15.5       ,  17.        ,\n",
       "        13.56      ,  11.7       ,  13.425     ,  20.325     ,\n",
       "        20.92      ,  13.95      ,  12.03333333,  11.25      ,\n",
       "        16.3       ,  11.56666667,   7.66666667,  11.61666667,\n",
       "         6.95      ,  13.15      ,  11.3       ,  15.675     ,\n",
       "        10.76      ,  13.4       ,  13.4       ,  14.25      ,\n",
       "        13.23333333,  14.7       ,  14.9       ,  15.83333333,\n",
       "        14.7       ,  17.88333333,  13.45      ,  15.6       ,\n",
       "        15.175     ,  17.2       ,  17.3       ,  16.8       ,\n",
       "        14.275     ,  17.7       ,  19.51666667,  20.575     ,\n",
       "        18.76666667,  21.71428571,  19.05      ,  13.3       ,\n",
       "        12.62      ,  20.675     ,  18.1       ,  20.525     ,\n",
       "        17.11666667,  26.25      ,  13.175     ,  14.525     ,\n",
       "        17.625     ,  14.91666667,  15.725     ,  21.275     ,\n",
       "        20.125     ,  35.1       ,  34.3       ,  19.9       ,\n",
       "        22.45      ,  23.        ,  19.8       ,  21.3       ,\n",
       "        14.125     ,  11.73333333,  12.26      ,  17.2       ,\n",
       "        22.45      ,  17.5       ,  21.46666667,  18.66666667,\n",
       "        18.8       ,  19.93333333,  23.35      ,  21.05      ,\n",
       "        20.94      ,  22.55      ,  14.9       ,  32.36666667,\n",
       "        25.75      ,  22.75      ])"
      ]
     },
     "execution_count": 23,
     "metadata": {},
     "output_type": "execute_result"
    }
   ],
   "source": [
    "rf.oob_prediction_"
   ]
  },
  {
   "cell_type": "markdown",
   "metadata": {},
   "source": [
    "# Comparing actual values with Random Forest predictions"
   ]
  },
  {
   "cell_type": "code",
   "execution_count": 24,
   "metadata": {},
   "outputs": [
    {
     "data": {
      "text/html": [
       "<div>\n",
       "<style>\n",
       "    .dataframe thead tr:only-child th {\n",
       "        text-align: right;\n",
       "    }\n",
       "\n",
       "    .dataframe thead th {\n",
       "        text-align: left;\n",
       "    }\n",
       "\n",
       "    .dataframe tbody tr th {\n",
       "        vertical-align: top;\n",
       "    }\n",
       "</style>\n",
       "<table border=\"1\" class=\"dataframe\">\n",
       "  <thead>\n",
       "    <tr style=\"text-align: right;\">\n",
       "      <th></th>\n",
       "      <th>rf_pred</th>\n",
       "      <th>medv</th>\n",
       "    </tr>\n",
       "  </thead>\n",
       "  <tbody>\n",
       "    <tr>\n",
       "      <th>0</th>\n",
       "      <td>28.125</td>\n",
       "      <td>24.0</td>\n",
       "    </tr>\n",
       "    <tr>\n",
       "      <th>1</th>\n",
       "      <td>22.625</td>\n",
       "      <td>21.6</td>\n",
       "    </tr>\n",
       "    <tr>\n",
       "      <th>2</th>\n",
       "      <td>33.100</td>\n",
       "      <td>34.7</td>\n",
       "    </tr>\n",
       "    <tr>\n",
       "      <th>3</th>\n",
       "      <td>34.625</td>\n",
       "      <td>33.4</td>\n",
       "    </tr>\n",
       "    <tr>\n",
       "      <th>4</th>\n",
       "      <td>35.720</td>\n",
       "      <td>36.2</td>\n",
       "    </tr>\n",
       "  </tbody>\n",
       "</table>\n",
       "</div>"
      ],
      "text/plain": [
       "   rf_pred  medv\n",
       "0   28.125  24.0\n",
       "1   22.625  21.6\n",
       "2   33.100  34.7\n",
       "3   34.625  33.4\n",
       "4   35.720  36.2"
      ]
     },
     "execution_count": 24,
     "metadata": {},
     "output_type": "execute_result"
    }
   ],
   "source": [
    "data['rf_pred']=rf.oob_prediction_\n",
    "cols=['rf_pred','medv']\n",
    "data[cols].head()"
   ]
  },
  {
   "cell_type": "markdown",
   "metadata": {},
   "source": [
    "# Calculating the squared mean error"
   ]
  },
  {
   "cell_type": "code",
   "execution_count": 25,
   "metadata": {},
   "outputs": [
    {
     "data": {
      "text/plain": [
       "17.285697902018171"
      ]
     },
     "execution_count": 25,
     "metadata": {},
     "output_type": "execute_result"
    }
   ],
   "source": [
    "data['rf_pred']=rf.oob_prediction_\n",
    "data['err']=(data['rf_pred']-data['medv'])**2\n",
    "sum(data['err'])/506"
   ]
  },
  {
   "cell_type": "markdown",
   "metadata": {},
   "source": [
    "The mean squared error comes out to be 17.285, which is less than 20.10 obtained from the regression tree with cross-validation"
   ]
  },
  {
   "cell_type": "markdown",
   "metadata": {},
   "source": [
    "# Calculating the oob score"
   ]
  },
  {
   "cell_type": "code",
   "execution_count": 26,
   "metadata": {},
   "outputs": [
    {
     "data": {
      "text/plain": [
       "0.79524059721373308"
      ]
     },
     "execution_count": 26,
     "metadata": {},
     "output_type": "execute_result"
    }
   ],
   "source": [
    "rf.oob_score_"
   ]
  }
 ],
 "metadata": {
  "kernelspec": {
   "display_name": "Python [conda env:py36]",
   "language": "python",
   "name": "conda-env-py36-py"
  },
  "language_info": {
   "codemirror_mode": {
    "name": "ipython",
    "version": 3
   },
   "file_extension": ".py",
   "mimetype": "text/x-python",
   "name": "python",
   "nbconvert_exporter": "python",
   "pygments_lexer": "ipython3",
   "version": "3.6.5"
  }
 },
 "nbformat": 4,
 "nbformat_minor": 2
}
